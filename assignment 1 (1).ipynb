{
 "cells": [
  {
   "cell_type": "code",
   "execution_count": 3,
   "id": "81fb9e60",
   "metadata": {},
   "outputs": [
    {
     "name": "stdout",
     "output_type": "stream",
     "text": [
      "Object `number` not found.\n",
      "Array= [5, 2, 3, 4, 1, 6, 7]\n",
      "pairs whose sum is: 7\n",
      "5 2\n",
      "3 4\n",
      "1 6\n"
     ]
    }
   ],
   "source": [
    " 1.Write a program to find all pairs of an integer array whose sum is equal to a given number?\n",
    "\n",
    "def find (array,len,sum):\n",
    "    print(\"pairs whose sum is:\",sum)\n",
    "    for i in range(len):\n",
    "        for j in range(i,len):\n",
    "            if (array[i]+array[j])== sum:\n",
    "                print(array[i],array[j])\n",
    "array=[5,2,3,4,1,6,7]\n",
    "    # take input from user\n",
    "sum=7\n",
    "    # print array\n",
    "print(\"Array=\",array)\n",
    "    #cal function find\n",
    "find(array,len(array),sum)\n",
    "                "
   ]
  },
  {
   "cell_type": "markdown",
   "id": "ee855682",
   "metadata": {},
   "source": [
    "## Write a program to reverse an array in place? In place means you cannot create a new array. You have to update the original array."
   ]
  },
  {
   "cell_type": "code",
   "execution_count": 9,
   "id": "ac99f48f",
   "metadata": {},
   "outputs": [
    {
     "name": "stdout",
     "output_type": "stream",
     "text": [
      "Original Array: ['b', 'h', 'a', 'v', 'y', 'a']\n",
      "('The Reverse Array is:', ['a', 'y', 'v', 'a', 'h', 'b'])\n",
      "**************************************************\n",
      "Original Array: [0, 2, 4, 6, 8]\n",
      "('The Reverse Array is:', [8, 6, 4, 2, 0])\n"
     ]
    }
   ],
   "source": [
    "def ReverseArray(array):\n",
    "    return \"The Reverse Array is:\",array[::-1]\n",
    "array = [\"b\",\"h\",\"a\",\"v\",\"y\",\"a\"]\n",
    "print(\"Original Array:\", array)\n",
    "print(ReverseArray(array))\n",
    "print(\"*\"*50)\n",
    "array1 = [0,2,4,6,8]\n",
    "print(\"Original Array:\", array1)\n",
    "print(ReverseArray(array1))"
   ]
  },
  {
   "cell_type": "code",
   "execution_count": 10,
   "id": "26881f1f",
   "metadata": {},
   "outputs": [
    {
     "name": "stdout",
     "output_type": "stream",
     "text": [
      "Object `other` not found.\n",
      "Given Strings are not a rotation of each other.\n",
      "**************************************************\n",
      "Given Strings are a rotation of each other.\n"
     ]
    }
   ],
   "source": [
    " 3.Write a program to check if two strings are a rotation of each other?\n",
    "\n",
    "def StringRotationCheck(s1, s2): \n",
    "    temp = '' \n",
    "    temp = s1 + s1 \n",
    "    if s2 in temp: \n",
    "        return True \n",
    "    else: \n",
    "        return False\n",
    "s1 = \"ABACADABC\"\n",
    "s2 = \"CDABABACD\"\n",
    "if StringRotationCheck(s1, s2): \n",
    "    print(\"Given Strings are a rotation of each other.\")\n",
    "else: \n",
    "    print(\"Given Strings are not a rotation of each other.\")\n",
    "print(\"*\"*50)\n",
    "s1_1 = \"ABACD\"\n",
    "s2_2 = \"CDABA\"\n",
    "if StringRotationCheck(s1_1, s2_2): \n",
    "    print(\"Given Strings are a rotation of each other.\")\n",
    "else: \n",
    "    print(\"Given Strings are not a rotation of each other.\")"
   ]
  },
  {
   "cell_type": "code",
   "execution_count": 7,
   "id": "cbf354ca",
   "metadata": {},
   "outputs": [],
   "source": [
    "Q4. Write a program to print the first non-repeated character from a string?"
   ]
  },
  {
   "cell_type": "code",
   "execution_count": 8,
   "id": "488f56f4",
   "metadata": {},
   "outputs": [
    {
     "name": "stdout",
     "output_type": "stream",
     "text": [
      "The First Non Repeating Character in prashanshasa is:\n",
      "p\n",
      "r\n",
      "n\n"
     ]
    }
   ],
   "source": [
    "from collections import Counter\n",
    "def NonRepeatChar(Str):\n",
    "    frequency = Counter(Str)\n",
    "    for i in Str:\n",
    "        if(frequency[i] == 1):\n",
    "            print(i)\n",
    "\n",
    "Str = \"prashanshasa\"\n",
    "print(\"The First Non Repeating Character in\",Str,\"is:\")\n",
    "NonRepeatChar(Str)\n"
   ]
  },
  {
   "cell_type": "code",
   "execution_count": null,
   "id": "08715e97",
   "metadata": {},
   "outputs": [],
   "source": [
    "Q5. Read about the Tower of Hanoi algorithm. Write a program to implement it.\n",
    "\n",
    " Tower of Hanoi Algorithm: Mathematical puzzle where we have three rods and n disks. \n",
    "The disks can be moved one disk at a time and they should place a smaller disk top of a larger one.\n",
    " The disks are stacked in the descending order(The largest disk stacked at the bottom and the smallest one on top)\n",
    "    The task is to transfer the disks from one source rod to another target rod.\n",
    "    The following rules must not be violated:\n",
    "    1. Only one disk can be moved at a time.\n",
    "    2. The most upper disk from one of the rod can be stimulated in move.\n",
    "    3. The smaller disk cannot be placed at the lower of the largest disk.\n",
    "    Transferring the top n-1 disks from source rod to Auxiliary rod can again be thought of as a fresh problem and can be solved in the same manner.\n",
    "The number of moves can be calculated as 2n - 1\n",
    "-----------------------------------------------------------------------------------\n",
    "###### Approach:\n",
    "    1. Create a tower_of_hanoi recursive function and pass two arguments: \n",
    "            a. The number of disks n\n",
    "            b. The name of the rods such as source, aux, and target.\n",
    "    2. We can define the base case when the number of disks is 1.\n",
    "            (In this case, simply move the one disk from the source to target and return)\n",
    "    3. Now, move remaining n-1 disks from source to auxiliary using the target as the auxiliary.\n",
    "    4. Then, the remaining 1 disk move on the source to target.\n",
    "    5. Move the n-1 disks on the auxiliary to the target using the source as the auxiliary.\n"
   ]
  },
  {
   "cell_type": "code",
   "execution_count": 6,
   "id": "ffed853b",
   "metadata": {},
   "outputs": [
    {
     "name": "stdout",
     "output_type": "stream",
     "text": [
      "Enter The Number of Disks: 3\n",
      "Move Disk 1 from Source Rod_A To Destination Rod_C\n",
      "Move Disk 2 From Source Rod_A To Destination Rod_B\n",
      "Move Disk 1 from Source Rod_C To Destination Rod_B\n",
      "Move Disk 3 From Source Rod_A To Destination Rod_C\n",
      "Move Disk 1 from Source Rod_B To Destination Rod_A\n",
      "Move Disk 2 From Source Rod_B To Destination Rod_C\n",
      "Move Disk 1 from Source Rod_A To Destination Rod_C\n"
     ]
    }
   ],
   "source": [
    "def TowerHanoi(Disks, Source, Auxiliary, Target):  \n",
    "    if(Disks == 1):  \n",
    "        print (\"Move Disk 1 from Source\",Source,\"To Destination\",Target)\n",
    "        #print('Move disk 1 from rod {} to rod {}.'.format(Source, Target))  \n",
    "        return  \n",
    "    TowerHanoi(Disks - 1, Source, Target, Auxiliary)  \n",
    "    print (\"Move Disk\",Disks,\"From Source\",Source,\"To Destination\",Target)\n",
    "    #print('Move disk {} from rod {} to rod {}.'.format(Disks, Source, Target))  \n",
    "    TowerHanoi(Disks - 1, Auxiliary, Source, Target)  \n",
    "  \n",
    "  \n",
    "Disks = int(input('Enter The Number of Disks: ')) \n",
    "#Source-Rod A\n",
    "#Auxiliary-Rod B\n",
    "#Target-Rod C\n",
    "TowerHanoi(Disks, 'Rod_A', 'Rod_B', 'Rod_C') \n",
    "#number of disks = 2\n",
    "#The number of moves can be calculated as 2n-1 = (2^2)-1 = 4-1 = 3"
   ]
  },
  {
   "cell_type": "code",
   "execution_count": null,
   "id": "b29c5f26",
   "metadata": {},
   "outputs": [],
   "source": [
    "6.Read about infix, prefix, and postfix expressions. Write a program to convert postfix to prefix expression."
   ]
  },
  {
   "cell_type": "code",
   "execution_count": 11,
   "id": "ee7ac454",
   "metadata": {},
   "outputs": [],
   "source": [
    "Infix Expression: \n",
    "    The expression when operator is \"in-between\" every pair of operands --> (A+B)*(C+D)\n",
    "Postfix Expression: \n",
    "    The expression when operator is \"followed by\" every pair of operands --> AB+CD+*\n",
    "Prefix Expression:\n",
    "    The expression when operator appears \"before\" the operands --> *+AB+CD\n",
    "Algorithm for Postfix to Prefix:\n",
    "    1. Read the Postfix expression from left to right\n",
    "    2. If the symbol is an operand, then push it onto the Stack\n",
    "    3. If the symbol is an operator, then pop two operands from the Stack \n",
    "    4. Create a string by concatenating the two operands and the operator before them. \n",
    "    5. string = operator + operand2 + operand1 \n",
    "    6. And push the resultant string back to Stack\n",
    "    7. Repeat the above steps until end of Postfix expression.\n",
    "    \n",
    "    "
   ]
  },
  {
   "cell_type": "code",
   "execution_count": 3,
   "id": "bcfbd1ff",
   "metadata": {},
   "outputs": [
    {
     "name": "stdout",
     "output_type": "stream",
     "text": [
      "Postfix expression is: AB+CD+*\n",
      "Prefix expression is: *+AB+CD\n"
     ]
    }
   ],
   "source": [
    "def CheckOperator(x):\n",
    "    if x == \"+\":\n",
    "        return True\n",
    "    if x == \"-\":\n",
    "        return True\n",
    "    if x == \"/\":\n",
    "        return True\n",
    "    if x == \"*\":\n",
    "        return True\n",
    "    return False\n",
    "\n",
    "def PostfixToPrefix(postfix_exp):\n",
    "    stack = []\n",
    "    length = len(postfix_exp)\n",
    "    for i in range(length):\n",
    "        if (CheckOperator(postfix_exp[i])):\n",
    "            operand_1 = stack[-1]\n",
    "            stack.pop()\n",
    "            operand_2 = stack[-1]\n",
    "            stack.pop()\n",
    "            temp = postfix_exp[i] + operand_2 + operand_1\n",
    "            stack.append(temp)\n",
    "        else:\n",
    "            stack.append(postfix_exp[i])\n",
    "    ans = \"\"\n",
    "    for i in stack:\n",
    "        ans = ans + i\n",
    "    return ans\n",
    "\n",
    "postfix_exp = \"AB+CD+*\"\n",
    "print(\"Postfix expression is:\",postfix_exp)\n",
    "print(\"Prefix expression is:\",PostfixToPrefix(postfix_exp))"
   ]
  },
  {
   "cell_type": "code",
   "execution_count": null,
   "id": "8a85245f",
   "metadata": {},
   "outputs": [],
   "source": [
    " 7.Write a program to convert prefix expression to infix expression.\n",
    "\n",
    "Algorithm for Prefix to Infix: \n",
    "1. Read the Prefix expression in reverse order (from right to left)\n",
    "2. If the symbol is an operand, then push it onto the Stack\n",
    "3. If the symbol is an operator, then pop two operands from the Stack \n",
    "4. Create a string by concatenating the two operands and the operator between them. \n",
    "5. string = (operand1 + operator + operand2) \n",
    "6. And push the resultant string back to Stack\n",
    "7. Repeat the above steps until the end of Prefix expression.\n",
    "8. At the end stack will have only 1 string i.e resultant string"
   ]
  },
  {
   "cell_type": "code",
   "execution_count": 4,
   "id": "df7d440e",
   "metadata": {},
   "outputs": [
    {
     "name": "stdout",
     "output_type": "stream",
     "text": [
      "Prefix expression is: *+AB+CD\n",
      "Infix expression is: (C+D)\n"
     ]
    }
   ],
   "source": [
    "def CheckOperator(x):\n",
    "    if x == \"+\":\n",
    "        return True\n",
    "    if x == \"-\":\n",
    "        return True\n",
    "    if x == \"/\":\n",
    "        return True\n",
    "    if x == \"*\":\n",
    "        return True\n",
    "    return False\n",
    "\n",
    "def PrefixToInfix(prefix_exp):\n",
    "    stack = []\n",
    "    i = len(prefix_exp) - 1\n",
    "    while i >= 0:\n",
    "        if not CheckOperator(prefix_exp[i]):\n",
    "            stack.append(prefix_exp[i])\n",
    "            i -= 1\n",
    "        else:\n",
    "            temp = \"(\" + stack.pop() + prefix_exp[i] + stack.pop() + \")\"\n",
    "            stack.append(temp)\n",
    "            i -= 1\n",
    "            return stack.pop()\n",
    "\n",
    "prefix_exp = \"*+AB+CD\"\n",
    "print(\"Prefix expression is:\",prefix_exp)\n",
    "print(\"Infix expression is:\",PrefixToInfix(prefix_exp))"
   ]
  },
  {
   "cell_type": "code",
   "execution_count": null,
   "id": "0e520022",
   "metadata": {},
   "outputs": [],
   "source": [
    "Q8. Write a program to check if all the brackets are closed in a given code snippet."
   ]
  },
  {
   "cell_type": "code",
   "execution_count": 9,
   "id": "ab40e3b3",
   "metadata": {},
   "outputs": [
    {
     "name": "stdout",
     "output_type": "stream",
     "text": [
      "Not Balanced\n",
      "**************************************************\n",
      "Balanced\n"
     ]
    }
   ],
   "source": [
    "def BalancedBrackets(exp):\n",
    "    stack = []\n",
    "    for x in exp:\n",
    "        if x in [\"(\", \"{\", \"[\"]:\n",
    "            stack.append(x)\n",
    "        else:\n",
    "            if not stack:\n",
    "                return False\n",
    "            current_x = stack.pop()\n",
    "            if current_x == '(':\n",
    "                if x != \")\":\n",
    "                    return False\n",
    "            if current_x == '{':\n",
    "                if x != \"}\":\n",
    "                    return False\n",
    "            if current_x == '[':\n",
    "                if x != \"]\":\n",
    "                    return False\n",
    "    if stack:\n",
    "        return False\n",
    "    return True\n",
    "\n",
    "expression = \"{({[)]})}\"\n",
    "if BalancedBrackets(expression):\n",
    "    print(\"Balanced\")\n",
    "else:\n",
    "    print(\"Not Balanced\")\n",
    "print(\"*\"*50)\n",
    "expression_1 = \"{([])}\"\n",
    "if BalancedBrackets(expression_1):\n",
    "    print(\"Balanced\")\n",
    "else:\n",
    "    print(\"Not Balanced\")\n",
    "\n"
   ]
  },
  {
   "cell_type": "code",
   "execution_count": null,
   "id": "712f4a06",
   "metadata": {},
   "outputs": [],
   "source": [
    "Q9. Write a program to reverse a stack."
   ]
  },
  {
   "cell_type": "code",
   "execution_count": 10,
   "id": "90619cd6",
   "metadata": {},
   "outputs": [
    {
     "name": "stdout",
     "output_type": "stream",
     "text": [
      "Original Stack\n",
      "10\n",
      "8\n",
      "6\n",
      "4\n",
      "2\n",
      "0\n",
      "\n",
      "Stack after Reversing\n",
      "0\n",
      "2\n",
      "4\n",
      "6\n",
      "8\n",
      "10\n"
     ]
    }
   ],
   "source": [
    "class Stack:\n",
    "    def __init__(self):\n",
    "        self.Elements = []\n",
    "    def push(self, value):\n",
    "        self.Elements.append(value)\n",
    "    def pop(self):\n",
    "        return self.Elements.pop()\n",
    "    def empty(self):\n",
    "        return self.Elements == []\n",
    "    def show(self):\n",
    "        for value in reversed(self.Elements):\n",
    "            print(value)\n",
    "\n",
    "def BottomInsert(s, value):\n",
    "    if s.empty():\n",
    "        s.push(value)\n",
    "    else:\n",
    "        popped = s.pop()\n",
    "        BottomInsert(s, value)\n",
    "        s.push(popped)\n",
    "\n",
    "def Reverse(s):\n",
    "    if s.empty():\n",
    "        pass\n",
    "    else:\n",
    "        popped = s.pop()\n",
    "        Reverse(s)\n",
    "        BottomInsert(s, popped)\n",
    "\n",
    "stack = Stack()\n",
    "stack.push(0)\n",
    "stack.push(2)\n",
    "stack.push(4)\n",
    "stack.push(6)\n",
    "stack.push(8)\n",
    "stack.push(10)\n",
    "print(\"Original Stack\")\n",
    "stack.show()\n",
    "\n",
    "print(\"\\nStack after Reversing\")\n",
    "Reverse(stack)\n",
    "stack.show()"
   ]
  },
  {
   "cell_type": "code",
   "execution_count": null,
   "id": "2c839f56",
   "metadata": {},
   "outputs": [],
   "source": [
    "Q10. Write a program to find the smallest number using a stack."
   ]
  },
  {
   "cell_type": "code",
   "execution_count": 11,
   "id": "98050b02",
   "metadata": {},
   "outputs": [
    {
     "name": "stdout",
     "output_type": "stream",
     "text": [
      "-3\n",
      "0\n",
      "-2\n"
     ]
    }
   ],
   "source": [
    "class MinStack(object):\n",
    "    min=float('inf')\n",
    "    def __init__(self):\n",
    "        self.min=float('inf')\n",
    "        self.stack = []\n",
    "    def push(self, x):\n",
    "        if x<=self.min:\n",
    "            self.stack.append(self.min)\n",
    "            self.min = x\n",
    "        self.stack.append(x)\n",
    "    def pop(self):\n",
    "        t = self.stack[-1]\n",
    "        self.stack.pop()\n",
    "        if self.min == t:\n",
    "            self.min = self.stack[-1]\n",
    "            self.stack.pop()\n",
    "    def top(self):\n",
    "        return self.stack[-1]\n",
    "    def getMin(self):\n",
    "        return self.min\n",
    "    \n",
    "m = MinStack()\n",
    "m.push(-2)\n",
    "m.push(0)\n",
    "m.push(-3)\n",
    "print(m.getMin())\n",
    "m.pop()\n",
    "print(m.top())\n",
    "print(m.getMin())\n",
    "\n"
   ]
  },
  {
   "cell_type": "code",
   "execution_count": null,
   "id": "2e247fa9",
   "metadata": {},
   "outputs": [],
   "source": []
  }
 ],
 "metadata": {
  "kernelspec": {
   "display_name": "Python 3 (ipykernel)",
   "language": "python",
   "name": "python3"
  },
  "language_info": {
   "codemirror_mode": {
    "name": "ipython",
    "version": 3
   },
   "file_extension": ".py",
   "mimetype": "text/x-python",
   "name": "python",
   "nbconvert_exporter": "python",
   "pygments_lexer": "ipython3",
   "version": "3.9.13"
  }
 },
 "nbformat": 4,
 "nbformat_minor": 5
}
